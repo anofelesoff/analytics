{
 "cells": [
  {
   "cell_type": "code",
   "id": "initial_id",
   "metadata": {
    "collapsed": true,
    "ExecuteTime": {
     "end_time": "2025-06-26T13:36:25.922461Z",
     "start_time": "2025-06-26T13:36:25.516708Z"
    }
   },
   "source": "import pandas as pd",
   "outputs": [],
   "execution_count": 1
  },
  {
   "metadata": {
    "ExecuteTime": {
     "end_time": "2025-06-26T13:36:26.318567Z",
     "start_time": "2025-06-26T13:36:25.935461Z"
    }
   },
   "cell_type": "code",
   "source": "df = pd.read_csv(r'C:\\GitHub\\analytics\\data_c56.csv', sep=';', on_bad_lines='skip')",
   "id": "a179e507b8672755",
   "outputs": [],
   "execution_count": 2
  },
  {
   "metadata": {
    "ExecuteTime": {
     "end_time": "2025-06-26T13:36:26.529864Z",
     "start_time": "2025-06-26T13:36:26.490721Z"
    }
   },
   "cell_type": "code",
   "source": "df.info()\n",
   "id": "a2b14e1eaa368a10",
   "outputs": [
    {
     "name": "stdout",
     "output_type": "stream",
     "text": [
      "<class 'pandas.core.frame.DataFrame'>\n",
      "RangeIndex: 51451 entries, 0 to 51450\n",
      "Data columns (total 32 columns):\n",
      " #   Column                    Non-Null Count  Dtype  \n",
      "---  ------                    --------------  -----  \n",
      " 0   uid                       51451 non-null  object \n",
      " 1   polis_number              51451 non-null  int64  \n",
      " 2   date_z1                   51451 non-null  object \n",
      " 3   sh_code                   51451 non-null  object \n",
      " 4   sh_name                   51451 non-null  object \n",
      " 5   lpu_short_name            51451 non-null  object \n",
      " 6   lpu_subject               51451 non-null  object \n",
      " 7   karina_line_row           51451 non-null  object \n",
      " 8   karina_etalon             51425 non-null  float64\n",
      " 9   line_karina               51451 non-null  int64  \n",
      " 10  karina_support_scheme     51451 non-null  object \n",
      " 11  drugs_in_scheme           51451 non-null  object \n",
      " 12  start_therapy             51451 non-null  object \n",
      " 13  last_cycle_end            51451 non-null  object \n",
      " 14  diagnosis_date            51451 non-null  object \n",
      " 15  age_at_diagnosis          51451 non-null  object \n",
      " 16  diagnosis                 51451 non-null  object \n",
      " 17  morphology_type_icdo3     51451 non-null  object \n",
      " 18  prr_stage                 51451 non-null  object \n",
      " 19  prr_last_contact          51451 non-null  object \n",
      " 20  prr_death_date            51451 non-null  object \n",
      " 21  registry_line             51448 non-null  object \n",
      " 22  registry_line2            51448 non-null  object \n",
      " 23  drug_line                 51451 non-null  object \n",
      " 24  cr_match                  51451 non-null  object \n",
      " 25  cr_match_corrected        51451 non-null  object \n",
      " 26  last_contact_date_reestr  51451 non-null  object \n",
      " 27  stage_reestr              43919 non-null  object \n",
      " 28  death_date_reestr         45284 non-null  float64\n",
      " 29  cause_of_death            45284 non-null  float64\n",
      " 30  last_diagnosis_reestr     50846 non-null  object \n",
      " 31  tariff                    51451 non-null  object \n",
      "dtypes: float64(3), int64(2), object(27)\n",
      "memory usage: 12.6+ MB\n"
     ]
    }
   ],
   "execution_count": 3
  }
 ],
 "metadata": {
  "kernelspec": {
   "display_name": "Python 3",
   "language": "python",
   "name": "python3"
  },
  "language_info": {
   "codemirror_mode": {
    "name": "ipython",
    "version": 2
   },
   "file_extension": ".py",
   "mimetype": "text/x-python",
   "name": "python",
   "nbconvert_exporter": "python",
   "pygments_lexer": "ipython2",
   "version": "2.7.6"
  }
 },
 "nbformat": 4,
 "nbformat_minor": 5
}
